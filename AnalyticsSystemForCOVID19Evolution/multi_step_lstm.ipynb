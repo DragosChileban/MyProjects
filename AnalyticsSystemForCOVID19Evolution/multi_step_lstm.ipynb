{
  "nbformat": 4,
  "nbformat_minor": 0,
  "metadata": {
    "colab": {
      "name": "multi-step_lstm.ipynb",
      "provenance": []
    },
    "kernelspec": {
      "name": "python3",
      "display_name": "Python 3"
    }
  },
  "cells": [
    {
      "cell_type": "code",
      "metadata": {
        "id": "BZBU9lEYxSZo",
        "colab": {
          "base_uri": "https://localhost:8080/",
          "height": 34
        },
        "outputId": "ddef59ee-5960-47ad-e343-811ac593d0f3"
      },
      "source": [
        "#importing all the libraries\n",
        "from numpy import array\n",
        "from numpy import hstack\n",
        "from keras.models import Sequential\n",
        "from keras.layers import LSTM\n",
        "from keras.layers import Dense\n",
        "from keras.layers import RepeatVector\n",
        "from keras.layers import TimeDistributed\n",
        "import pandas as pd\n",
        "from sklearn.preprocessing import MinMaxScaler\n",
        "import matplotlib.pyplot as plt\n",
        "import numpy as np"
      ],
      "execution_count": null,
      "outputs": [
        {
          "output_type": "stream",
          "text": [
            "Using TensorFlow backend.\n"
          ],
          "name": "stderr"
        }
      ]
    },
    {
      "cell_type": "code",
      "metadata": {
        "id": "Kumu-3hnxW3V"
      },
      "source": [
        "#loading the data\n",
        "df = pd.read_csv('https://raw.githubusercontent.com/owid/covid-19-data/master/public/data/owid-covid-data.csv')\n",
        "df = df.loc[(df['location'] == 'United Kingdom')]\n",
        "\n",
        "df_cases = df['new_cases']\n",
        "df_deaths = df['new_deaths']\n",
        "\n",
        "seq_cases, seq_deaths = df_cases.values, df_deaths.values\n",
        "seq_cases, seq_deaths = seq_cases.astype('float32'), seq_deaths.astype('float32')\n",
        "seq_cases, seq_deaths = seq_cases.reshape(-1, 1), seq_deaths.reshape(-1, 1)"
      ],
      "execution_count": null,
      "outputs": []
    },
    {
      "cell_type": "code",
      "metadata": {
        "id": "31GHr7Zxzjhc"
      },
      "source": [
        "#normalizing the data\n",
        "# scaler = MinMaxScaler(feature_range=(0, 1))\n",
        "# seq_cases = scaler.fit_transform(seq_cases)\n",
        "# seq_deaths = scaler.fit_transform(seq_deaths)"
      ],
      "execution_count": null,
      "outputs": []
    },
    {
      "cell_type": "code",
      "metadata": {
        "id": "TdtW75BX8kLu"
      },
      "source": [
        "#function that splits the data into input and output\n",
        "def split_sequences(sequences, n_steps_in, n_steps_out):\n",
        "\tX, y = list(), list()\n",
        "\tfor i in range(len(sequences)):\n",
        "\t\tend_ix = i + n_steps_in\n",
        "\t\tout_end_ix = end_ix + n_steps_out\n",
        "\t\tif out_end_ix > len(sequences):\n",
        "\t\t\tbreak\n",
        "\t\tseq_x, seq_y = sequences[i:end_ix, :], sequences[end_ix:out_end_ix, :]\n",
        "\t\tX.append(seq_x)\n",
        "\t\ty.append(seq_y)\n",
        "\treturn array(X), array(y)"
      ],
      "execution_count": null,
      "outputs": []
    },
    {
      "cell_type": "code",
      "metadata": {
        "id": "eXmGidt86R0i"
      },
      "source": [
        "#preparing the dataset\n",
        "dataset = hstack((seq_cases, seq_deaths))\n",
        "\n",
        "n_steps_in, n_steps_out = 14, 7\n",
        "\n",
        "X, y = split_sequences(dataset, n_steps_in, n_steps_out)\n",
        "\n",
        "n_features = X.shape[2]"
      ],
      "execution_count": null,
      "outputs": []
    },
    {
      "cell_type": "code",
      "metadata": {
        "id": "cxdOxCbg9c3r"
      },
      "source": [
        "# define the LSTM model\n",
        "model = Sequential()\n",
        "model.add(LSTM(100, activation='relu', input_shape=(n_steps_in, n_features)))\n",
        "model.add(RepeatVector(n_steps_out))\n",
        "model.add(LSTM(100, activation='relu', return_sequences=True))\n",
        "model.add(TimeDistributed(Dense(n_features)))\n",
        "model.compile(optimizer='adam', loss='mse')"
      ],
      "execution_count": null,
      "outputs": []
    },
    {
      "cell_type": "code",
      "metadata": {
        "id": "MDddFqOF9r3W",
        "colab": {
          "base_uri": "https://localhost:8080/",
          "height": 34
        },
        "outputId": "64078c11-84ec-42cf-ebd2-8455f24a720f"
      },
      "source": [
        "#train the model\n",
        "model.fit(X, y, epochs=10, verbose=0)"
      ],
      "execution_count": null,
      "outputs": [
        {
          "output_type": "execute_result",
          "data": {
            "text/plain": [
              "<keras.callbacks.callbacks.History at 0x7fc5d3c5c3c8>"
            ]
          },
          "metadata": {
            "tags": []
          },
          "execution_count": 7
        }
      ]
    },
    {
      "cell_type": "code",
      "metadata": {
        "id": "QUCUIq35GI5p",
        "colab": {
          "base_uri": "https://localhost:8080/",
          "height": 403
        },
        "outputId": "54ebdbc3-0b19-466a-fc5f-66978b5b54b6"
      },
      "source": [
        "#make the prediction\n",
        "dataframe = pd.read_csv('https://raw.githubusercontent.com/owid/covid-19-data/master/public/data/owid-covid-data.csv')\n",
        "dataframe = dataframe.loc[(dataframe['location'] == 'United Kingdom')  ]\n",
        "\n",
        "pred = dataframe.loc[(dataframe['date'] > '2020-05-29')]\n",
        "\n",
        "pred = pred[['new_cases', 'new_deaths']]\n",
        "pred_input = array(pred)\n",
        "pred_input = pred_input.reshape((1, n_steps_in, n_features))\n",
        "\n",
        "prediction = model.predict(pred_input, verbose=0)\n",
        "\n",
        "pred_array = prediction[0, :]\n",
        "data = pd.DataFrame({'new_cases': pred_array[:, 0], 'new_deaths': pred_array[:, 1]})\n",
        "print(pred)\n",
        "print(data)\n"
      ],
      "execution_count": null,
      "outputs": [
        {
          "output_type": "stream",
          "text": [
            "       new_cases  new_deaths\n",
            "22099       2095         324\n",
            "22100       1604         215\n",
            "22101       1936         113\n",
            "22102       1570         556\n",
            "22103       1653         324\n",
            "22104       1871         359\n",
            "22105       1805         176\n",
            "22106       1650         357\n",
            "22107       1557         204\n",
            "22108       1326          77\n",
            "22109       1205          55\n",
            "22110       1741         286\n",
            "22111       1003         245\n",
            "22112       1266         151\n",
            "     new_cases  new_deaths\n",
            "0   315.138184   76.012115\n",
            "1   648.624023  100.434669\n",
            "2   956.831482  140.761734\n",
            "3  1305.216309  198.161362\n",
            "4  1547.638550  275.918488\n",
            "5  1848.440063  286.700317\n",
            "6  2192.945068  348.274658\n"
          ],
          "name": "stdout"
        }
      ]
    },
    {
      "cell_type": "code",
      "metadata": {
        "id": "r2tIteZpiiM0"
      },
      "source": [
        "#preparing the data for plotting\n",
        "train_cases = dataframe[['new_cases']]\n",
        "train_cases = train_cases.to_numpy()\n",
        "train_deaths = dataframe[['new_deaths']]\n",
        "train_deaths = train_deaths.to_numpy()\n",
        "\n",
        "prediction_cases = data[['new_cases']]\n",
        "prediction_cases = prediction_cases.to_numpy()\n",
        "prediction_deaths = data[['new_deaths']]\n",
        "prediction_deaths = prediction_deaths.to_numpy()\n",
        "\n",
        "total_cases = np.concatenate((train_cases, prediction_cases), axis=0)\n",
        "total_deaths = np.concatenate((train_deaths, prediction_deaths), axis=0)"
      ],
      "execution_count": null,
      "outputs": []
    },
    {
      "cell_type": "code",
      "metadata": {
        "id": "A7tI63Il7Sj2",
        "colab": {
          "base_uri": "https://localhost:8080/",
          "height": 265
        },
        "outputId": "d847258a-341e-4754-d1fb-1ec8ded0ccda"
      },
      "source": [
        "#plot the numer of cases\n",
        "train_casesPlot = np.empty_like(total_cases)\n",
        "train_casesPlot[:, :] = np.nan\n",
        "train_casesPlot[:len(train_cases), : ] = train_cases\n",
        "\n",
        "prediction_casesPlot = np.empty_like(total_cases)\n",
        "prediction_casesPlot[:, :] = np.nan\n",
        "prediction_casesPlot[len(train_cases):len(prediction_cases) + len(train_cases), :] = prediction_cases\n",
        "\n",
        "plt.plot(train_casesPlot)\n",
        "plt.plot(prediction_casesPlot)\n",
        "plt.show()"
      ],
      "execution_count": null,
      "outputs": [
        {
          "output_type": "display_data",
          "data": {
            "image/png": "[encoded data removed]",
            "text/plain": [
              "<Figure size 432x288 with 1 Axes>"
            ]
          },
          "metadata": {
            "tags": [],
            "needs_background": "light"
          }
        }
      ]
    },
    {
      "cell_type": "code",
      "metadata": {
        "id": "0WvQWP-Q7WDN",
        "colab": {
          "base_uri": "https://localhost:8080/",
          "height": 265
        },
        "outputId": "b0661485-e4af-4b4a-90d2-bf8cadc04747"
      },
      "source": [
        "#plot the number of deaths\n",
        "train_deathsPlot = np.empty_like(total_deaths)\n",
        "train_deathsPlot[:, :] = np.nan\n",
        "train_deathsPlot[:len(train_deaths), : ] = train_deaths\n",
        "\n",
        "prediction_deathsPlot = np.empty_like(total_deaths)\n",
        "prediction_deathsPlot[:, :] = np.nan\n",
        "prediction_deathsPlot[len(train_deaths):len(prediction_deaths) + len(train_deaths), :] = prediction_deaths\n",
        "\n",
        "plt.plot(train_deathsPlot)\n",
        "plt.plot(prediction_deathsPlot)\n",
        "plt.show()"
      ],
      "execution_count": null,
      "outputs": [
        {
          "output_type": "display_data",
          "data": {
            "image/png": "[encoded data removed]",
            "text/plain": [
              "<Figure size 432x288 with 1 Axes>"
            ]
          },
          "metadata": {
            "tags": [],
            "needs_background": "light"
          }
        }
      ]
    }
  ]
}