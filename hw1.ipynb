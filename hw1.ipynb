{
 "cells": [
  {
   "cell_type": "code",
   "execution_count": 15,
   "metadata": {},
   "outputs": [],
   "source": [
    "def hw(an, luna):\n",
    "    if luna == 2:\n",
    "        if an % 4 == 0:\n",
    "            print(29)\n",
    "        else:\n",
    "            print(28)\n",
    "    else:\n",
    "        if luna <= 7:\n",
    "            if luna % 2 == 1:\n",
    "                print(31)\n",
    "            else:\n",
    "                print(30)\n",
    "        else:\n",
    "            if luna % 2 == 0:\n",
    "                print(31)\n",
    "            else:\n",
    "                print(30)"
   ]
  },
  {
   "cell_type": "code",
   "execution_count": 23,
   "metadata": {},
   "outputs": [
    {
     "name": "stdout",
     "output_type": "stream",
     "text": [
      "29\n"
     ]
    }
   ],
   "source": [
    "hw(2000, 2)"
   ]
  },
  {
   "cell_type": "code",
   "execution_count": null,
   "metadata": {},
   "outputs": [],
   "source": []
  }
 ],
 "metadata": {
  "kernelspec": {
   "display_name": "Python 3",
   "language": "python",
   "name": "python3"
  },
  "language_info": {
   "codemirror_mode": {
    "name": "ipython",
    "version": 3
   },
   "file_extension": ".py",
   "mimetype": "text/x-python",
   "name": "python",
   "nbconvert_exporter": "python",
   "pygments_lexer": "ipython3",
   "version": "3.8.5"
  }
 },
 "nbformat": 4,
 "nbformat_minor": 4
}
